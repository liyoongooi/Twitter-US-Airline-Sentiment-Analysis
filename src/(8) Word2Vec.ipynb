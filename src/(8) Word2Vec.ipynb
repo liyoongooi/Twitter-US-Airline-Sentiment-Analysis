{
 "cells": [
  {
   "cell_type": "code",
   "execution_count": 1,
   "metadata": {},
   "outputs": [],
   "source": [
    "import pandas as pd\n",
    "import numpy as np\n",
    "from sklearn.tree import DecisionTreeClassifier\n",
    "from sklearn.ensemble import RandomForestClassifier\n",
    "from sklearn.metrics import accuracy_score,confusion_matrix,classification_report"
   ]
  },
  {
   "cell_type": "code",
   "execution_count": 2,
   "metadata": {},
   "outputs": [],
   "source": [
    "X_train = pd.read_csv('../data/(E) X_train.csv')\n",
    "X_test = pd.read_csv('../data/(F) X_test.csv')\n",
    "y_train = pd.read_csv('../data/(G) y_train.csv')\n",
    "y_test = pd.read_csv('../data/(H) y_test.csv')"
   ]
  },
  {
   "cell_type": "code",
   "execution_count": 3,
   "metadata": {},
   "outputs": [],
   "source": [
    "y_train = y_train.ensemble_sentiment\n",
    "y_test = y_test.ensemble_sentiment"
   ]
  },
  {
   "cell_type": "code",
   "execution_count": 4,
   "metadata": {},
   "outputs": [],
   "source": [
    "import pandas as pd\n",
    "import numpy as np\n",
    "from gensim.models import Word2Vec\n",
    "from sklearn.tree import DecisionTreeClassifier\n",
    "from sklearn.metrics import accuracy_score\n",
    "\n",
    "# Train Word2Vec on the training data\n",
    "w2v_model = Word2Vec(sentences=X_train['tweet'], vector_size=100, window=5, min_count=1, workers=4)\n",
    "\n",
    "# Extract the learned vocabulary and word vectors\n",
    "word_vectors = w2v_model.wv\n"
   ]
  },
  {
   "cell_type": "code",
   "execution_count": 5,
   "metadata": {},
   "outputs": [],
   "source": [
    "def get_avg_word2vec(text, model, num_features):\n",
    "    \"\"\" Calculate the average word2vec for each document \"\"\"\n",
    "    feature_vec = np.zeros((num_features,), dtype='float32')\n",
    "    n_words = 0\n",
    "    for word in text:\n",
    "        if word in model.wv.index_to_key:\n",
    "            n_words += 1\n",
    "            feature_vec = np.add(feature_vec, model.wv[word])\n",
    "    if n_words > 0:\n",
    "        feature_vec = np.divide(feature_vec, n_words)\n",
    "    return feature_vec\n",
    "\n",
    "# Get feature vectors for all documents in train and test data\n",
    "X_train_vecs = np.array([get_avg_word2vec(doc, w2v_model, 100) for doc in X_train['tweet']])\n",
    "X_test_vecs = np.array([get_avg_word2vec(doc, w2v_model, 100) for doc in X_test['tweet']])"
   ]
  },
  {
   "cell_type": "markdown",
   "metadata": {},
   "source": [
    "DT"
   ]
  },
  {
   "cell_type": "code",
   "execution_count": 6,
   "metadata": {},
   "outputs": [
    {
     "name": "stdout",
     "output_type": "stream",
     "text": [
      "Accuracy: 0.5327391155296538\n",
      "Classification Report:\n",
      "               precision    recall  f1-score   support\n",
      "\n",
      "    negative       0.70      0.66      0.68      1791\n",
      "     neutral       0.34      0.35      0.34       689\n",
      "    positive       0.26      0.31      0.28       437\n",
      "\n",
      "    accuracy                           0.53      2917\n",
      "   macro avg       0.43      0.44      0.43      2917\n",
      "weighted avg       0.55      0.53      0.54      2917\n",
      "\n"
     ]
    }
   ],
   "source": [
    "# Initialize Decision Tree Classifier\n",
    "clf = DecisionTreeClassifier()\n",
    "\n",
    "# Fit the model on training data\n",
    "clf.fit(X_train_vecs, y_train)\n",
    "\n",
    "# Predict on test data\n",
    "y_pred = clf.predict(X_test_vecs)\n",
    "\n",
    "# Calculate the accuracy\n",
    "accuracy = accuracy_score(y_test, y_pred)\n",
    "print(\"Accuracy:\", accuracy_score(y_test, y_pred))\n",
    "print(\"Classification Report:\\n\", classification_report(y_test, y_pred))\n"
   ]
  },
  {
   "cell_type": "markdown",
   "metadata": {},
   "source": [
    "LR"
   ]
  },
  {
   "cell_type": "code",
   "execution_count": 7,
   "metadata": {},
   "outputs": [
    {
     "name": "stdout",
     "output_type": "stream",
     "text": [
      "Accuracy: 0.6513541309564621\n",
      "Classification Report:\n",
      "               precision    recall  f1-score   support\n",
      "\n",
      "    negative       0.67      0.96      0.79      1791\n",
      "     neutral       0.50      0.16      0.25       689\n",
      "    positive       0.56      0.17      0.26       437\n",
      "\n",
      "    accuracy                           0.65      2917\n",
      "   macro avg       0.58      0.43      0.43      2917\n",
      "weighted avg       0.61      0.65      0.58      2917\n",
      "\n"
     ]
    },
    {
     "name": "stderr",
     "output_type": "stream",
     "text": [
      "c:\\Users\\kenniex\\AppData\\Local\\Programs\\Python\\Python311\\Lib\\site-packages\\sklearn\\linear_model\\_logistic.py:460: ConvergenceWarning: lbfgs failed to converge (status=1):\n",
      "STOP: TOTAL NO. of ITERATIONS REACHED LIMIT.\n",
      "\n",
      "Increase the number of iterations (max_iter) or scale the data as shown in:\n",
      "    https://scikit-learn.org/stable/modules/preprocessing.html\n",
      "Please also refer to the documentation for alternative solver options:\n",
      "    https://scikit-learn.org/stable/modules/linear_model.html#logistic-regression\n",
      "  n_iter_i = _check_optimize_result(\n"
     ]
    }
   ],
   "source": [
    "\n",
    "from sklearn.linear_model import LogisticRegression\n",
    "from sklearn.metrics import classification_report\n",
    "\n",
    "lr_classifier = LogisticRegression( random_state=42)\n",
    "lr_classifier.fit(X_train_vecs, y_train)\n",
    "# Predict on the test set\n",
    "y_pred = lr_classifier.predict(X_test_vecs)\n",
    "\n",
    "# Evaluate the model\n",
    "print(\"Accuracy:\", accuracy_score(y_test, y_pred))\n",
    "print(\"Classification Report:\\n\", classification_report(y_test, y_pred))\n"
   ]
  },
  {
   "cell_type": "markdown",
   "metadata": {},
   "source": [
    "RF"
   ]
  },
  {
   "cell_type": "code",
   "execution_count": 8,
   "metadata": {},
   "outputs": [
    {
     "name": "stdout",
     "output_type": "stream",
     "text": [
      "Accuracy: 0.6667809393212204\n",
      "Classification Report:\n",
      "               precision    recall  f1-score   support\n",
      "\n",
      "    negative       0.70      0.91      0.79      1791\n",
      "     neutral       0.50      0.32      0.39       689\n",
      "    positive       0.61      0.22      0.33       437\n",
      "\n",
      "    accuracy                           0.67      2917\n",
      "   macro avg       0.60      0.48      0.50      2917\n",
      "weighted avg       0.64      0.67      0.63      2917\n",
      "\n"
     ]
    }
   ],
   "source": [
    "\n",
    "# Train the Random Forest classifier\n",
    "rf_classifier = RandomForestClassifier( random_state=42)\n",
    "rf_classifier.fit(X_train_vecs, y_train)\n",
    "# Predict on the test set\n",
    "y_pred = rf_classifier.predict(X_test_vecs)\n",
    "\n",
    "# Evaluate the model\n",
    "print(\"Accuracy:\", accuracy_score(y_test, y_pred))\n",
    "print(\"Classification Report:\\n\", classification_report(y_test, y_pred))\n",
    "\n"
   ]
  }
 ],
 "metadata": {
  "kernelspec": {
   "display_name": "Python 3",
   "language": "python",
   "name": "python3"
  },
  "language_info": {
   "codemirror_mode": {
    "name": "ipython",
    "version": 3
   },
   "file_extension": ".py",
   "mimetype": "text/x-python",
   "name": "python",
   "nbconvert_exporter": "python",
   "pygments_lexer": "ipython3",
   "version": "3.11.1"
  }
 },
 "nbformat": 4,
 "nbformat_minor": 2
}
